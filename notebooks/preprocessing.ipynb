{
 "cells": [
  {
   "attachments": {},
   "cell_type": "markdown",
   "metadata": {},
   "source": [
    "# Data Preprocessing\n",
    "\n",
    "This notebook describes how the signal and background raw data are preprocessed. The signal is a Higgs boson simulated sample, the background a ttbar simulated sample. All raw data have already been filtered using the [Hbb+jet analysis](https://journals.aps.org/prd/abstract/10.1103/PhysRevD.105.092003) event selection."
   ]
  },
  {
   "cell_type": "code",
   "execution_count": 1,
   "metadata": {},
   "outputs": [],
   "source": [
    "import sys\n",
    "sys.path.append('../')\n",
    "import pandas\n",
    "import matplotlib.pyplot as plt\n",
    "from hbbclass.preprocessing import root_to_pandas, train_test_sample\n",
    "from hbbclass.plotting import compare_feature\n",
    "# Random seed for reproducible results\n",
    "seed = 42"
   ]
  },
  {
   "attachments": {},
   "cell_type": "markdown",
   "metadata": {},
   "source": [
    "## Data Description and Extraction\n",
    "\n",
    "The signal and background samples are characterised by events containing a \"Higgs candidate jet\", an object that can be produced by the decay of a Higgs boson, a top quark, or other activity in the event. Higgs boson jets (signal) selected by the analysis are characterised by a \"2-prong\" decay signature. Conversely, jets originated by top-quark decays (background) are typically \"3-prong\".\n",
    "\n",
    "The goal of this study is to understand if it is possible to classify signal and background jets based on their \"n-prongness\" by studying the energy correlations between the energy deposits of their decay products. This information is provided by the jet substructure variables `C2`, `D2`, `tau21` and `tau32`.\n",
    "\n",
    "The table below lists the variables relevant to this study:\n",
    "\n",
    "| Variable      | Description                                                     |\n",
    "|---------------|-----------------------------------------------------------------|\n",
    "| `Hcand_m`     | Higgs candidate jet mass                                        |\n",
    "| `Hcand_C2`    | Higgs candidate jet C2 energy correlation substructure variable |\n",
    "| `Hcand_D2`    | Higgs candidate jet D2 energy correlation substructure variable |\n",
    "| `Hcand_tau21` | Higgs candidate jet tau21 subjettiness substructure variable    |\n",
    "| `Hcand_tau32` | Higgs candidate jet tau32 subjettiness substructure variable    |\n",
    "| `w`           | Total event weight                                              |\n",
    "\n",
    "`C2`, `D2` and `tau21` are closer to `0` when the Higgs candidate jet is consistent with a 2-prong substructure. `tau32` is closer to `0` when the Higgs candidate jet is consistent with a 3-prong substructure.\n",
    "\n",
    "In the following, the raw data is loaded and converted from the ROOT TTree format to pandas dataframes."
   ]
  },
  {
   "cell_type": "code",
   "execution_count": 2,
   "metadata": {},
   "outputs": [],
   "source": [
    "# Define variable names\n",
    "columns = [\n",
    "    'Hcand_m',\n",
    "    'Hcand_C2',\n",
    "    'Hcand_D2',\n",
    "    'Hcand_tau21',\n",
    "    'Hcand_tau32',\n",
    "    'w'\n",
    "]\n",
    "# Load signal sample\n",
    "df_sig = root_to_pandas('../data/raw/Higgs_srl.root', columns)\n",
    "# Load backgound sample\n",
    "df_bkg = root_to_pandas('../data/raw/ttbar_PowPy8_srl.root', columns)"
   ]
  },
  {
   "attachments": {},
   "cell_type": "markdown",
   "metadata": {},
   "source": [
    "## Data Cleaning\n",
    "\n",
    "In this section we explore the raw datasets and remove any undesirable events. In particular, we check for events with negative weights and `NaN` values."
   ]
  },
  {
   "cell_type": "code",
   "execution_count": 3,
   "metadata": {},
   "outputs": [
    {
     "data": {
      "text/html": [
       "<div>\n",
       "<style scoped>\n",
       "    .dataframe tbody tr th:only-of-type {\n",
       "        vertical-align: middle;\n",
       "    }\n",
       "\n",
       "    .dataframe tbody tr th {\n",
       "        vertical-align: top;\n",
       "    }\n",
       "\n",
       "    .dataframe thead th {\n",
       "        text-align: right;\n",
       "    }\n",
       "</style>\n",
       "<table border=\"1\" class=\"dataframe\">\n",
       "  <thead>\n",
       "    <tr style=\"text-align: right;\">\n",
       "      <th></th>\n",
       "      <th>Hcand_m</th>\n",
       "      <th>Hcand_C2</th>\n",
       "      <th>Hcand_D2</th>\n",
       "      <th>Hcand_tau21</th>\n",
       "      <th>Hcand_tau32</th>\n",
       "      <th>w</th>\n",
       "    </tr>\n",
       "  </thead>\n",
       "  <tbody>\n",
       "    <tr>\n",
       "      <th>count</th>\n",
       "      <td>234045.000000</td>\n",
       "      <td>234044.000000</td>\n",
       "      <td>234044.000000</td>\n",
       "      <td>234044.000000</td>\n",
       "      <td>234027.000000</td>\n",
       "      <td>234045.000000</td>\n",
       "    </tr>\n",
       "    <tr>\n",
       "      <th>mean</th>\n",
       "      <td>156.446106</td>\n",
       "      <td>0.169186</td>\n",
       "      <td>1.248909</td>\n",
       "      <td>0.350663</td>\n",
       "      <td>0.585659</td>\n",
       "      <td>0.001956</td>\n",
       "    </tr>\n",
       "    <tr>\n",
       "      <th>std</th>\n",
       "      <td>60.356606</td>\n",
       "      <td>0.085888</td>\n",
       "      <td>0.492251</td>\n",
       "      <td>0.153666</td>\n",
       "      <td>0.162839</td>\n",
       "      <td>0.006990</td>\n",
       "    </tr>\n",
       "    <tr>\n",
       "      <th>min</th>\n",
       "      <td>60.044930</td>\n",
       "      <td>0.000000</td>\n",
       "      <td>0.000000</td>\n",
       "      <td>0.000000</td>\n",
       "      <td>0.000000</td>\n",
       "      <td>-1.649303</td>\n",
       "    </tr>\n",
       "    <tr>\n",
       "      <th>25%</th>\n",
       "      <td>118.824966</td>\n",
       "      <td>0.102323</td>\n",
       "      <td>0.925815</td>\n",
       "      <td>0.228188</td>\n",
       "      <td>0.480180</td>\n",
       "      <td>0.000250</td>\n",
       "    </tr>\n",
       "    <tr>\n",
       "      <th>50%</th>\n",
       "      <td>131.606003</td>\n",
       "      <td>0.146906</td>\n",
       "      <td>1.196702</td>\n",
       "      <td>0.339196</td>\n",
       "      <td>0.612713</td>\n",
       "      <td>0.000712</td>\n",
       "    </tr>\n",
       "    <tr>\n",
       "      <th>75%</th>\n",
       "      <td>183.317062</td>\n",
       "      <td>0.229458</td>\n",
       "      <td>1.476404</td>\n",
       "      <td>0.466693</td>\n",
       "      <td>0.712195</td>\n",
       "      <td>0.001274</td>\n",
       "    </tr>\n",
       "    <tr>\n",
       "      <th>max</th>\n",
       "      <td>776.466980</td>\n",
       "      <td>0.510581</td>\n",
       "      <td>14.967789</td>\n",
       "      <td>0.875948</td>\n",
       "      <td>0.929519</td>\n",
       "      <td>0.131582</td>\n",
       "    </tr>\n",
       "  </tbody>\n",
       "</table>\n",
       "</div>"
      ],
      "text/plain": [
       "             Hcand_m       Hcand_C2       Hcand_D2    Hcand_tau21  \\\n",
       "count  234045.000000  234044.000000  234044.000000  234044.000000   \n",
       "mean      156.446106       0.169186       1.248909       0.350663   \n",
       "std        60.356606       0.085888       0.492251       0.153666   \n",
       "min        60.044930       0.000000       0.000000       0.000000   \n",
       "25%       118.824966       0.102323       0.925815       0.228188   \n",
       "50%       131.606003       0.146906       1.196702       0.339196   \n",
       "75%       183.317062       0.229458       1.476404       0.466693   \n",
       "max       776.466980       0.510581      14.967789       0.875948   \n",
       "\n",
       "         Hcand_tau32              w  \n",
       "count  234027.000000  234045.000000  \n",
       "mean        0.585659       0.001956  \n",
       "std         0.162839       0.006990  \n",
       "min         0.000000      -1.649303  \n",
       "25%         0.480180       0.000250  \n",
       "50%         0.612713       0.000712  \n",
       "75%         0.712195       0.001274  \n",
       "max         0.929519       0.131582  "
      ]
     },
     "execution_count": 3,
     "metadata": {},
     "output_type": "execute_result"
    }
   ],
   "source": [
    "# Describe the signal sample features\n",
    "df_sig.describe()"
   ]
  },
  {
   "cell_type": "code",
   "execution_count": 4,
   "metadata": {},
   "outputs": [
    {
     "data": {
      "text/html": [
       "<div>\n",
       "<style scoped>\n",
       "    .dataframe tbody tr th:only-of-type {\n",
       "        vertical-align: middle;\n",
       "    }\n",
       "\n",
       "    .dataframe tbody tr th {\n",
       "        vertical-align: top;\n",
       "    }\n",
       "\n",
       "    .dataframe thead th {\n",
       "        text-align: right;\n",
       "    }\n",
       "</style>\n",
       "<table border=\"1\" class=\"dataframe\">\n",
       "  <thead>\n",
       "    <tr style=\"text-align: right;\">\n",
       "      <th></th>\n",
       "      <th>Hcand_m</th>\n",
       "      <th>Hcand_C2</th>\n",
       "      <th>Hcand_D2</th>\n",
       "      <th>Hcand_tau21</th>\n",
       "      <th>Hcand_tau32</th>\n",
       "      <th>w</th>\n",
       "    </tr>\n",
       "  </thead>\n",
       "  <tbody>\n",
       "    <tr>\n",
       "      <th>count</th>\n",
       "      <td>73703.000000</td>\n",
       "      <td>73703.000000</td>\n",
       "      <td>73703.000000</td>\n",
       "      <td>73703.000000</td>\n",
       "      <td>73698.000000</td>\n",
       "      <td>73703.000000</td>\n",
       "    </tr>\n",
       "    <tr>\n",
       "      <th>mean</th>\n",
       "      <td>172.374039</td>\n",
       "      <td>0.204673</td>\n",
       "      <td>1.312798</td>\n",
       "      <td>0.402422</td>\n",
       "      <td>0.524074</td>\n",
       "      <td>0.204273</td>\n",
       "    </tr>\n",
       "    <tr>\n",
       "      <th>std</th>\n",
       "      <td>58.165047</td>\n",
       "      <td>0.082981</td>\n",
       "      <td>0.439810</td>\n",
       "      <td>0.152748</td>\n",
       "      <td>0.163877</td>\n",
       "      <td>0.129802</td>\n",
       "    </tr>\n",
       "    <tr>\n",
       "      <th>min</th>\n",
       "      <td>60.003716</td>\n",
       "      <td>0.000000</td>\n",
       "      <td>0.000000</td>\n",
       "      <td>0.000000</td>\n",
       "      <td>0.000000</td>\n",
       "      <td>-0.545178</td>\n",
       "    </tr>\n",
       "    <tr>\n",
       "      <th>25%</th>\n",
       "      <td>139.200905</td>\n",
       "      <td>0.139841</td>\n",
       "      <td>1.062311</td>\n",
       "      <td>0.291149</td>\n",
       "      <td>0.403633</td>\n",
       "      <td>0.140191</td>\n",
       "    </tr>\n",
       "    <tr>\n",
       "      <th>50%</th>\n",
       "      <td>167.602570</td>\n",
       "      <td>0.206803</td>\n",
       "      <td>1.279620</td>\n",
       "      <td>0.414478</td>\n",
       "      <td>0.532233</td>\n",
       "      <td>0.165941</td>\n",
       "    </tr>\n",
       "    <tr>\n",
       "      <th>75%</th>\n",
       "      <td>192.772217</td>\n",
       "      <td>0.264247</td>\n",
       "      <td>1.522778</td>\n",
       "      <td>0.517615</td>\n",
       "      <td>0.651313</td>\n",
       "      <td>0.320061</td>\n",
       "    </tr>\n",
       "    <tr>\n",
       "      <th>max</th>\n",
       "      <td>1177.437256</td>\n",
       "      <td>0.483084</td>\n",
       "      <td>6.685217</td>\n",
       "      <td>0.859372</td>\n",
       "      <td>0.921992</td>\n",
       "      <td>0.801747</td>\n",
       "    </tr>\n",
       "  </tbody>\n",
       "</table>\n",
       "</div>"
      ],
      "text/plain": [
       "            Hcand_m      Hcand_C2      Hcand_D2   Hcand_tau21   Hcand_tau32  \\\n",
       "count  73703.000000  73703.000000  73703.000000  73703.000000  73698.000000   \n",
       "mean     172.374039      0.204673      1.312798      0.402422      0.524074   \n",
       "std       58.165047      0.082981      0.439810      0.152748      0.163877   \n",
       "min       60.003716      0.000000      0.000000      0.000000      0.000000   \n",
       "25%      139.200905      0.139841      1.062311      0.291149      0.403633   \n",
       "50%      167.602570      0.206803      1.279620      0.414478      0.532233   \n",
       "75%      192.772217      0.264247      1.522778      0.517615      0.651313   \n",
       "max     1177.437256      0.483084      6.685217      0.859372      0.921992   \n",
       "\n",
       "                  w  \n",
       "count  73703.000000  \n",
       "mean       0.204273  \n",
       "std        0.129802  \n",
       "min       -0.545178  \n",
       "25%        0.140191  \n",
       "50%        0.165941  \n",
       "75%        0.320061  \n",
       "max        0.801747  "
      ]
     },
     "execution_count": 4,
     "metadata": {},
     "output_type": "execute_result"
    }
   ],
   "source": [
    "# Describe the background sample features\n",
    "df_bkg.describe()"
   ]
  },
  {
   "attachments": {},
   "cell_type": "markdown",
   "metadata": {},
   "source": [
    "Let's check for the presence of events with negative weights and `NaN` values:"
   ]
  },
  {
   "cell_type": "code",
   "execution_count": 5,
   "metadata": {},
   "outputs": [
    {
     "name": "stdout",
     "output_type": "stream",
     "text": [
      "Signal sample has 6451 events with negative weights (2.76%).\n",
      "Backgound sample has 1472 events with negative weights (2.0%).\n",
      "Signal sample has a total of 21 NaN values.\n",
      "Background sample has a total 5 NaN values.\n",
      "\n",
      "Distribution of NaN values across signal sample features:\n",
      "Hcand_m         0\n",
      "Hcand_C2        1\n",
      "Hcand_D2        1\n",
      "Hcand_tau21     1\n",
      "Hcand_tau32    18\n",
      "w               0\n",
      "dtype: int64\n",
      "\n",
      "Distribution of NaN values across background sample features:\n",
      "Hcand_m        0\n",
      "Hcand_C2       0\n",
      "Hcand_D2       0\n",
      "Hcand_tau21    0\n",
      "Hcand_tau32    5\n",
      "w              0\n",
      "dtype: int64\n"
     ]
    }
   ],
   "source": [
    "# Total number of signal and background events\n",
    "sig_events = df_sig.shape[0]\n",
    "bkg_events = df_bkg.shape[0]\n",
    "# Events with negative weights\n",
    "sig_neg_w = df_sig['w'].loc[df_sig['w'] < 0].count()\n",
    "bkg_neg_w = df_bkg['w'].loc[df_bkg['w'] < 0].count()\n",
    "perc_sig_neg_w = round(float(sig_neg_w*100)/sig_events, 2)\n",
    "perc_bkg_neg_w = round(float(bkg_neg_w*100)/bkg_events, 2)\n",
    "# Number of NaN values\n",
    "sig_nan = df_sig.isnull().sum().sum()\n",
    "bkg_nan = df_bkg.isnull().sum().sum()\n",
    "\n",
    "print(f'Signal sample has {sig_neg_w} events with negative weights ({perc_sig_neg_w}%).')\n",
    "print(f'Backgound sample has {bkg_neg_w} events with negative weights ({perc_bkg_neg_w}%).')\n",
    "print(f'Signal sample has a total of {sig_nan} NaN values.')\n",
    "print(f'Background sample has a total {bkg_nan} NaN values.')\n",
    "print('\\nDistribution of NaN values across signal sample features:')\n",
    "print(df_sig.isnull().sum())\n",
    "print('\\nDistribution of NaN values across background sample features:')\n",
    "print(df_bkg.isnull().sum())"
   ]
  },
  {
   "attachments": {},
   "cell_type": "markdown",
   "metadata": {},
   "source": [
    "Since the number of events with negative weights or NaN features is very small, it is possible to safely drop the corresponding rows from the datasets."
   ]
  },
  {
   "cell_type": "code",
   "execution_count": 6,
   "metadata": {},
   "outputs": [],
   "source": [
    "# Drop events with negative values\n",
    "df_sig = df_sig[df_sig['w'] >= 0]\n",
    "df_bkg = df_bkg[df_bkg['w'] >= 0]\n",
    "# Drop events with NaN feature values\n",
    "df_sig.dropna(axis=0, inplace=True)\n",
    "df_bkg.dropna(axis=0, inplace=True)\n"
   ]
  },
  {
   "attachments": {},
   "cell_type": "markdown",
   "metadata": {},
   "source": [
    "## Train and Test Datasets\n",
    "\n",
    "First we add the `is_signal` prediction label. It is a binary flag taking value `1` for the events in the signal sample and `0` for the events in the background sample.\n",
    "\n",
    "Then, we split the signal and background samples into train and test datasets. Since we are dealing with weighted events, we also sample them with replacement according to said weight. This is taken care by the `train_test_sample` function.\n",
    "\n",
    "We sample 70,000 events from the signal and background samples and we split them 70-30% into train and test datasets.\n",
    "\n",
    "Finally, we concatenate the signal and background train datasets and the signal and background test datasets together and we save them as `.csv` files for later use."
   ]
  },
  {
   "cell_type": "code",
   "execution_count": 7,
   "metadata": {},
   "outputs": [],
   "source": [
    "# Add prediction label\n",
    "if 'is_signal' not in df_sig:\n",
    "    df_sig.insert(0, 'is_signal', [1]*len(df_sig.index), True)\n",
    "if 'is_signal' not in df_bkg:\n",
    "    df_bkg.insert(0, 'is_signal', [0]*len(df_bkg.index), True)\n",
    "# split samples into train and test datasets\n",
    "n_samples = 70000\n",
    "frac_train = 0.7\n",
    "df_sig_train, df_sig_test = train_test_sample(df_sig, n_samples, frac_train, 'w', random_state=seed)\n",
    "df_bkg_train, df_bkg_test = train_test_sample(df_bkg, n_samples, frac_train, 'w', random_state=seed)\n",
    "# Concatenate dataframes\n",
    "df_train = pandas.concat([df_sig_train, df_bkg_train])\n",
    "df_test = pandas.concat([df_sig_test, df_bkg_test])\n",
    "# Shuffle dataframes\n",
    "df_train = df_train.sample(frac=1, random_state=seed)\n",
    "df_test = df_test.sample(frac=1, random_state=seed)\n",
    "# Reset indexes\n",
    "df_train.reset_index(drop=True, inplace=True)\n",
    "df_test.reset_index(drop=True, inplace=True)\n",
    "# Some sanity checks\n",
    "assert df_train.shape[0] == int(2*n_samples*frac_train)\n",
    "assert df_test.shape[0] == int(2*n_samples*(1-frac_train))\n",
    "# Save preprocessed samples to csv files\n",
    "df_train.to_csv('../data/processed/train.csv')\n",
    "df_test.to_csv('../data/processed/test.csv')"
   ]
  },
  {
   "attachments": {},
   "cell_type": "markdown",
   "metadata": {},
   "source": [
    "## Visualisation\n",
    "\n",
    "Finally, let's visualise the signal and background features of the train dataset.\n",
    "\n",
    "The Higgs candidate jet substructure variables `C2`, `D2`, `tau21` and `tau32` will be used to train Higgs classifiers.\n",
    "\n",
    "Since the Higgs candidate jet mass is used by the analysis to separate the signal and background events using maximum likelihood methods, it will not be used as input to the classifiers.  "
   ]
  },
  {
   "cell_type": "code",
   "execution_count": 8,
   "metadata": {},
   "outputs": [
    {
     "data": {
      "image/png": "[encoded data removed]",
      "text/plain": [
       "<Figure size 1100x800 with 4 Axes>"
      ]
     },
     "metadata": {},
     "output_type": "display_data"
    },
    {
     "data": {
      "image/png": "[encoded data removed]",
      "text/plain": [
       "<Figure size 640x480 with 1 Axes>"
      ]
     },
     "metadata": {},
     "output_type": "display_data"
    }
   ],
   "source": [
    "# Plot Higgs candidate jet substructure variables\n",
    "fig, axs = plt.subplots(2, 2, figsize=(11,8))\n",
    "compare_feature(df_train, 'Hcand_C2', limits=(0, 0.5), x_label='Higgs Candidate Jet C2', y_label='Events', ax=axs[0, 0])\n",
    "compare_feature(df_train, 'Hcand_D2', limits=(0, 4), x_label='Higgs Candidate Jet D2', y_label='Events', ax=axs[0, 1])\n",
    "compare_feature(df_train, 'Hcand_tau21', limits=(0, 1), x_label='Higgs Candidate Jet tau21', y_label='Events', ax=axs[1, 0])\n",
    "compare_feature(df_train, 'Hcand_tau32', limits=(0, 1), x_label='Higgs Candidate Jet tau32',  y_label='Events', ax=axs[1, 1])\n",
    "# Plot Higgs candidate jet mass\n",
    "compare_feature(df_train, 'Hcand_m', limits=(70, 210), bins=28, x_label='Higgs Candidate Jet Mass', y_label='Events')"
   ]
  }
 ],
 "metadata": {
  "kernelspec": {
   "display_name": ".venv",
   "language": "python",
   "name": "python3"
  },
  "language_info": {
   "codemirror_mode": {
    "name": "ipython",
    "version": 3
   },
   "file_extension": ".py",
   "mimetype": "text/x-python",
   "name": "python",
   "nbconvert_exporter": "python",
   "pygments_lexer": "ipython3",
   "version": "3.9.13"
  },
  "orig_nbformat": 4,
  "vscode": {
   "interpreter": {
    "hash": "ec998d42b09d8651ce2fbd774e6087d0eed0bffebbb12323ebef54c6fc8fd59c"
   }
  }
 },
 "nbformat": 4,
 "nbformat_minor": 2
}
